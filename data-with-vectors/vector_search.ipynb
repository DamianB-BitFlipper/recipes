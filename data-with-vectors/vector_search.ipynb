{
  "cells": [
    {
      "cell_type": "markdown",
      "metadata": {
        "id": "rJD9aP9eVcsT"
      },
      "source": [
        "## Dependencies"
      ]
    },
    {
      "cell_type": "code",
      "execution_count": null,
      "metadata": {
        "id": "3IgZm3pYwWa8"
      },
      "outputs": [],
      "source": [
        "!pip install weaviate-client"
      ]
    },
    {
      "cell_type": "code",
      "execution_count": null,
      "metadata": {},
      "outputs": [],
      "source": [
        "!pip install --pre -I \"weaviate-client==4.3.b2\""
      ]
    },
    {
      "cell_type": "markdown",
      "metadata": {
        "id": "rgL-mnMqVf0B"
      },
      "source": [
        "## Configuration"
      ]
    },
    {
      "cell_type": "code",
      "execution_count": null,
      "metadata": {
        "id": "-yrJZaNJwcCc"
      },
      "outputs": [],
      "source": [
        "import weaviate\n",
        "\n",
        "# Connect to your local Weaviate instance deployed with Docker\n",
        "client = weaviate.connect_to_local()\n",
        "\n",
        "# Option 2\n",
        "# Connect to your Weaviate Client Service cluster\n",
        "# client = weaviate.connect_to_wcs(\n",
        "#     cluster_id=\"WCS-CLUSTER-ID\", # Replace with your WCS cluster ID\n",
        "#     auth_credentials=weaviate.AuthApiKey(\n",
        "#       api_key=\"WCS-API-KEY\" # Replace with your WCS API KEY\n",
        "#     ),\n",
        "# )\n",
        "\n",
        "client.is_ready()"
      ]
    },
    {
      "cell_type": "markdown",
      "metadata": {
        "id": "Ze5J8E4MWC8g"
      },
      "source": [
        "## Create a collection\n",
        "> Collection stores your data and vector embeddings."
      ]
    },
    {
      "cell_type": "code",
      "execution_count": null,
      "metadata": {},
      "outputs": [],
      "source": [
        "# Note: in practice, you shouldn't rerun this cell, as it deletes your data\n",
        "# in \"MyCollection\", and then you need to re-import it again.\n",
        "import weaviate.classes as wvc\n",
        "\n",
        "# Delete the collection if it already exists\n",
        "if (client.collections.exists(\"MyCollection\")):\n",
        "    client.collections.delete(\"MyCollection\")\n",
        "\n",
        "client.collections.create(\n",
        "    name=\"MyCollection\",\n",
        "\n",
        "    vectorizer_config=wvc.Configure.Vectorizer.none(), # No vectorizer needed\n",
        "\n",
        "    vector_index_config=wvc.Configure.vector_index(\n",
        "        distance_metric=wvc.VectorDistance.COSINE # select prefered distance metric\n",
        "    ),\n",
        "\n",
        "    properties=[ # defining properties (data schema) is optional\n",
        "        wvc.Property(name=\"title\", data_type=wvc.DataType.TEXT), \n",
        "        wvc.Property(name=\"foo\", data_type=wvc.DataType.INT),\n",
        "    ]\n",
        ")\n",
        "\n",
        "print(\"Successfully created collection: MyCollection.\")"
      ]
    },
    {
      "cell_type": "markdown",
      "metadata": {
        "id": "bjcuCEcCXlRK"
      },
      "source": [
        "## Import the Data"
      ]
    },
    {
      "cell_type": "code",
      "execution_count": null,
      "metadata": {
        "id": "paWgPOGsa_NV"
      },
      "outputs": [],
      "source": [
        "sample_data = [\n",
        "   wvc.DataObject(\n",
        "      properties={\n",
        "         \"title\": \"First Object\",\n",
        "         \"foo\": 99, \n",
        "      },\n",
        "      vector=[0.1, 0.1, 0.1, 0.1, 0.1, 0.1]\n",
        "   ),\n",
        "   wvc.DataObject(\n",
        "      properties={\n",
        "         \"title\": \"Second Object\",\n",
        "         \"foo\": 77,\n",
        "      },\n",
        "      vector=[0.2, 0.3, 0.4, 0.5, 0.6, 0.7]\n",
        "   ),\n",
        "   wvc.DataObject(\n",
        "      properties={\n",
        "         \"title\": \"Third Object\",\n",
        "         \"foo\": 55,\n",
        "      },\n",
        "      vector=[0.3, 0.1, -0.1, -0.3, -0.5, -0.7]\n",
        "   ),\n",
        "   wvc.DataObject(\n",
        "      properties={\n",
        "         \"title\": \"Fourth Object\",\n",
        "      \"foo\": 33,\n",
        "      },\n",
        "      vector=[0.4, 0.41, 0.42, 0.43, 0.44, 0.45]\n",
        "   ),\n",
        "   wvc.DataObject(\n",
        "      properties={\n",
        "         \"title\": \"Fifth Object\",\n",
        "         \"foo\": 11,\n",
        "      },\n",
        "      vector=[0.5, 0.5, 0, 0, 0, 0]\n",
        "   ),\n",
        "]"
      ]
    },
    {
      "cell_type": "code",
      "execution_count": null,
      "metadata": {},
      "outputs": [],
      "source": [
        "# Get a collection object for \"MyCollection\"\n",
        "my_collection = client.collections.get(\"MyCollection\")\n",
        "my_collection.data.insert_many(sample_data)\n",
        "\n",
        "print(\"Data import complete\")"
      ]
    },
    {
      "cell_type": "markdown",
      "metadata": {},
      "source": [
        "Quick check to see if all objects are in.\n",
        "Let's use [meta count](https://weaviate.io/developers/weaviate/search/aggregate#retrieve-a-meta-property)."
      ]
    },
    {
      "cell_type": "code",
      "execution_count": null,
      "metadata": {},
      "outputs": [],
      "source": [
        "# Check number of objects\n",
        "my_collection.aggregate.over_all()"
      ]
    },
    {
      "cell_type": "markdown",
      "metadata": {
        "id": "NISdgAYebLyX"
      },
      "source": [
        "## Query Weaviate: Vector Search (vector embeddings)"
      ]
    },
    {
      "cell_type": "markdown",
      "metadata": {
        "id": "zHSeuEgScFFS"
      },
      "source": [
        "Available types of queries you can run when working with vector embeddings (without modules) in **Weaviate**:\n",
        "\n",
        "1. [nearVector](https://weaviate.io/developers/weaviate/api/graphql/vector-search-parameters#nearvector)\n",
        "\n",
        "2. [nearObject](https://weaviate.io/developers/weaviate/api/graphql/vector-search-parameters#nearobject)"
      ]
    },
    {
      "cell_type": "markdown",
      "metadata": {
        "id": "UzNmHZdijTKu"
      },
      "source": [
        "### nearVector Example"
      ]
    },
    {
      "cell_type": "markdown",
      "metadata": {
        "id": "mVUXMzMcjXmC"
      },
      "source": [
        "**First example** - Search Weaviate with a vector embedding, and return title property.\n",
        "\n",
        "See [the docs](https://weaviate.io/developers/weaviate/search/similarity#a-vector) for more."
      ]
    },
    {
      "cell_type": "code",
      "execution_count": null,
      "metadata": {},
      "outputs": [],
      "source": [
        "response = my_collection.query.near_vector(\n",
        "    near_vector=[-0.012, 0.021, -0.23, -0.42, 0.5, 0.5],\n",
        "    limit=2,\n",
        ")\n",
        "\n",
        "for item in response.objects:\n",
        "    print(item.uuid)\n",
        "    print(item.properties, \"\\n\")"
      ]
    },
    {
      "cell_type": "markdown",
      "metadata": {},
      "source": [
        "**Second example** - The same search query, but this time also return `distance`, and `vector`."
      ]
    },
    {
      "cell_type": "code",
      "execution_count": null,
      "metadata": {},
      "outputs": [],
      "source": [
        "response = my_collection.query.near_vector(\n",
        "    near_vector=[-0.012, 0.021, -0.23, -0.42, 0.5, 0.5],\n",
        "    include_vector=True,\n",
        "    return_metadata=wvc.MetadataQuery(distance=True),\n",
        "    limit=2,\n",
        ")\n",
        "\n",
        "for item in response.objects:\n",
        "    print(item.properties)\n",
        "    print(item.metadata.distance)\n",
        "    print(item.vector, \"\\n\")"
      ]
    },
    {
      "cell_type": "markdown",
      "metadata": {},
      "source": [
        "**Third example** – Same vector query, but this time we will filter on \"foo\" (which should be greater than 44). Also, let's return \"title\" and \"foo\".\n",
        "\n",
        "See [the docs](https://weaviate.io/developers/weaviate/search/filters#a-single-condition-filter) for more."
      ]
    },
    {
      "cell_type": "code",
      "execution_count": null,
      "metadata": {},
      "outputs": [],
      "source": [
        "response = my_collection.query.near_vector(\n",
        "    near_vector=[-0.012, 0.021, -0.23, -0.42, 0.5, 0.5],\n",
        "    return_metadata=wvc.MetadataQuery(distance=True),\n",
        "    filters=wvc.Filter(\"foo\").greater_than(44),\n",
        "    limit=2,\n",
        ")\n",
        "\n",
        "for item in response.objects:\n",
        "    print(item.properties)\n",
        "    print(item.metadata.distance, \"\\n\")"
      ]
    },
    {
      "cell_type": "markdown",
      "metadata": {
        "id": "Bn-ELUA_iJVM"
      },
      "source": [
        "### nearObject Example\n",
        "\n",
        "Weaviate also allows you to search for similar objects.\n",
        "\n",
        "See [the docs](https://weaviate.io/developers/weaviate/search/similarity#an-object) for more."
      ]
    },
    {
      "cell_type": "markdown",
      "metadata": {
        "id": "uI9GY5kOihM9"
      },
      "source": [
        "**Fourth example** - \n",
        "Search through `MyCollection` for similar objects, by providing an id from the previous query. \n",
        "\n",
        "> Note #1: The id was taken from the query above <br/>\n",
        "> The generated id for you might be different.\n",
        "\n",
        "> Note #2: The first object returned is always itself."
      ]
    },
    {
      "cell_type": "code",
      "execution_count": null,
      "metadata": {
        "id": "e5AKFSQJbeRB"
      },
      "outputs": [],
      "source": [
        "response = my_collection.query.near_object(\n",
        "    near_object=\"989ab81d-6f9b-46f1-9be8-113eae84ed33\",\n",
        "    return_metadata=wvc.MetadataQuery(distance=True),\n",
        "    limit=3,\n",
        ")\n",
        "\n",
        "for item in response.objects:\n",
        "    print(item.uuid)\n",
        "    print(item.properties)\n",
        "    print(item.metadata.distance, \"\\n\")"
      ]
    }
  ],
  "metadata": {
    "colab": {
      "collapsed_sections": [
        "rJD9aP9eVcsT",
        "rgL-mnMqVf0B",
        "Ze5J8E4MWC8g",
        "bjcuCEcCXlRK",
        "XF-ln5Nsgp1C",
        "Bn-ELUA_iJVM"
      ],
      "provenance": []
    },
    "kernelspec": {
      "display_name": "Python 3.11.3 64-bit",
      "language": "python",
      "name": "python3"
    },
    "language_info": {
      "codemirror_mode": {
        "name": "ipython",
        "version": 3
      },
      "file_extension": ".py",
      "mimetype": "text/x-python",
      "name": "python",
      "nbconvert_exporter": "python",
      "pygments_lexer": "ipython3",
      "version": "3.11.5"
    },
    "vscode": {
      "interpreter": {
        "hash": "aee8b7b246df8f9039afb4144a1f6fd8d2ca17a180786b69acc140d282b71a49"
      }
    }
  },
  "nbformat": 4,
  "nbformat_minor": 0
}
