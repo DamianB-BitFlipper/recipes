{
  "cells": [
    {
      "cell_type": "markdown",
      "metadata": {
        "id": "rJD9aP9eVcsT"
      },
      "source": [
        "## Dependencies"
      ]
    },
    {
      "cell_type": "code",
      "execution_count": null,
      "metadata": {
        "id": "3IgZm3pYwWa8"
      },
      "outputs": [],
      "source": [
        "!pip install weaviate-client"
      ]
    },
    {
      "cell_type": "markdown",
      "metadata": {
        "id": "rgL-mnMqVf0B"
      },
      "source": [
        "## Configuration"
      ]
    },
    {
      "cell_type": "code",
      "execution_count": null,
      "metadata": {
        "id": "-yrJZaNJwcCc"
      },
      "outputs": [],
      "source": [
        "import weaviate\n",
        "import json\n",
        "\n",
        "client = weaviate.Client(\n",
        "  url=\"WEAVIATE-INSTANCE-URL\",  # URL of your Weaviate instance\n",
        "  auth_client_secret=weaviate.AuthApiKey(api_key=\"AUTH-KEY\"), # (Optional) If the Weaviate instance requires authentication\n",
        ")\n",
        "\n",
        "client.is_ready()"
      ]
    },
    {
      "cell_type": "markdown",
      "metadata": {
        "id": "Ze5J8E4MWC8g"
      },
      "source": [
        "## Schema"
      ]
    },
    {
      "cell_type": "code",
      "execution_count": null,
      "metadata": {
        "id": "J32wdDCMWCgS"
      },
      "outputs": [],
      "source": [
        "# resetting the schema. CAUTION: This will delete your collection \n",
        "if client.schema.exists(\"MyCollection\"):\n",
        "    client.schema.delete_class(\"MyCollection\")\n",
        "\n",
        "schema = {\n",
        "    \"class\": \"MyCollection\",\n",
        "    \"vectorizer\": \"none\",\n",
        "    \"vectorIndexConfig\": {\n",
        "        \"distance\": \"cosine\" # make sure to provide the distance metric to search through your vectors\n",
        "    },\n",
        "}\n",
        "\n",
        "client.schema.create_class(schema)\n",
        "\n",
        "print(\"Successfully created the schema.\")"
      ]
    },
    {
      "cell_type": "markdown",
      "metadata": {
        "id": "bjcuCEcCXlRK"
      },
      "source": [
        "## Import the Data"
      ]
    },
    {
      "cell_type": "code",
      "execution_count": null,
      "metadata": {
        "id": "paWgPOGsa_NV"
      },
      "outputs": [],
      "source": [
        "data = [\n",
        "   {\n",
        "      \"title\": \"First Object\",\n",
        "      \"foo\": 99, \n",
        "      \"vector\": [0.1, 0.1, 0.1, 0.1, 0.1, 0.1]\n",
        "   },\n",
        "   {\n",
        "      \"title\": \"Second Object\",\n",
        "      \"foo\": 77, \n",
        "      \"vector\": [0.2, 0.3, 0.4, 0.5, 0.6, 0.7]\n",
        "   },\n",
        "   {\n",
        "      \"title\": \"Third Object\",\n",
        "      \"foo\": 55, \n",
        "      \"vector\": [0.3, 0.1, -0.1, -0.3, -0.5, -0.7]\n",
        "   },\n",
        "   {\n",
        "      \"title\": \"Fourth Object\",\n",
        "      \"foo\": 33, \n",
        "      \"vector\": [0.4, 0.41, 0.42, 0.43, 0.44, 0.45]\n",
        "   },\n",
        "   {\n",
        "      \"title\": \"Fifth Object\",\n",
        "      \"foo\": 11,\n",
        "      \"vector\": [0.5, 0.5, 0, 0, 0, 0]\n",
        "   },\n",
        "]\n",
        "\n",
        "client.batch.configure(batch_size=10)  # Configure batch\n",
        "\n",
        "# Batch import all objects\n",
        "# yes batch is an overkill for 5 objects, but it is recommended for large volumes of data\n",
        "with client.batch as batch:\n",
        "  for item in data:\n",
        "\n",
        "      properties = {\n",
        "         \"title\": item[\"title\"],\n",
        "         \"foo\": item[\"foo\"],\n",
        "      }\n",
        "\n",
        "      # the call that performs data insert\n",
        "      client.batch.add_data_object(\n",
        "         class_name=\"MyCollection\",\n",
        "         data_object=properties,\n",
        "         vector=item[\"vector\"] # your vector embeddings go here\n",
        "      )\n",
        "\n",
        "print(\"Data import complete\")"
      ]
    },
    {
      "cell_type": "markdown",
      "metadata": {},
      "source": [
        "Quick check to see if all objects are in.\n",
        "Let's use [meta count](https://weaviate.io/developers/weaviate/search/aggregate#retrieve-a-meta-property)."
      ]
    },
    {
      "cell_type": "code",
      "execution_count": null,
      "metadata": {},
      "outputs": [],
      "source": [
        "# Check number of objects\n",
        "response = (\n",
        "    client.query\n",
        "    .aggregate(\"MyCollection\")\n",
        "    .with_meta_count()\n",
        "    .do()\n",
        ")\n",
        "\n",
        "print(response)"
      ]
    },
    {
      "cell_type": "markdown",
      "metadata": {
        "id": "NISdgAYebLyX"
      },
      "source": [
        "## Query Weaviate: Vector Search (vector embeddings)"
      ]
    },
    {
      "cell_type": "markdown",
      "metadata": {
        "id": "zHSeuEgScFFS"
      },
      "source": [
        "Available types of queries you can run when working with vector embeddings (without modules) in **Weaviate**:\n",
        "\n",
        "1. [nearVector](https://weaviate.io/developers/weaviate/api/graphql/vector-search-parameters#nearvector)\n",
        "\n",
        "2. [nearObject](https://weaviate.io/developers/weaviate/api/graphql/vector-search-parameters#nearobject)"
      ]
    },
    {
      "cell_type": "markdown",
      "metadata": {
        "id": "UzNmHZdijTKu"
      },
      "source": [
        "### nearVector Example"
      ]
    },
    {
      "cell_type": "markdown",
      "metadata": {
        "id": "mVUXMzMcjXmC"
      },
      "source": [
        "**First example** - Search Weaviate with a vector embedding, and return title property.\n",
        "\n",
        "See [the docs](https://weaviate.io/developers/weaviate/search/similarity#a-vector) for more."
      ]
    },
    {
      "cell_type": "code",
      "execution_count": null,
      "metadata": {
        "id": "ZZARB1qUjUoq"
      },
      "outputs": [],
      "source": [
        "response = (\n",
        "    client.query\n",
        "    .get(\"MyCollection\", [\"title\"])\n",
        "    .with_near_vector({\n",
        "        \"vector\": [-0.012, 0.021, -0.23, -0.42, 0.5, 0.5]\n",
        "    })\n",
        "    .with_limit(2) # limit the output to only 2\n",
        "    .do()\n",
        ")\n",
        "\n",
        "result = response[\"data\"][\"Get\"][\"MyCollection\"]\n",
        "print(json.dumps(result, indent=2))"
      ]
    },
    {
      "cell_type": "markdown",
      "metadata": {},
      "source": [
        "**Second example** - The same search query, but this time also return `distance`, `vector`, and `id`."
      ]
    },
    {
      "cell_type": "code",
      "execution_count": null,
      "metadata": {},
      "outputs": [],
      "source": [
        "import json\n",
        "response = (\n",
        "    client.query\n",
        "    .get(\"MyCollection\", [\"title\"])\n",
        "    .with_near_vector({\n",
        "        \"vector\": [-0.012, 0.021, -0.23, -0.42, 0.5, 0.5]\n",
        "    })\n",
        "    .with_limit(2) # limit the output to only 2\n",
        "    .with_additional([\"distance\", \"vector, id\"]) # output the distance of the query vector to the objects in the database\n",
        "    .do()\n",
        ")\n",
        "\n",
        "result = response[\"data\"][\"Get\"][\"MyCollection\"]\n",
        "print(json.dumps(result, indent=2))"
      ]
    },
    {
      "cell_type": "markdown",
      "metadata": {},
      "source": [
        "**Third example** – Same vector query, but this time we will filter on \"foo\" (which should be greater than 44). Also, let's return \"title\" and \"foo\".\n",
        "\n",
        "See [the docs](https://weaviate.io/developers/weaviate/search/filters#a-single-condition-filter) for more."
      ]
    },
    {
      "cell_type": "code",
      "execution_count": null,
      "metadata": {},
      "outputs": [],
      "source": [
        "import json\n",
        "response = (\n",
        "    client.query\n",
        "    .get(\"MyCollection\", [\"title\", \"foo\"])\n",
        "    .with_near_vector({\n",
        "        \"vector\": [-0.012, 0.021, -0.23, -0.42, 0.5, 0.5]\n",
        "    })\n",
        "    .with_additional([\"distance, id\"]) # output the distance of the query vector to the objects in the database\n",
        "    .with_where({\n",
        "        \"path\": [\"foo\"],\n",
        "        \"operator\": \"GreaterThan\",\n",
        "        \"valueNumber\": 44\n",
        "    })\n",
        "    .with_limit(2) # limit the output to only 2\n",
        "    .do()\n",
        ")\n",
        "\n",
        "result = response[\"data\"][\"Get\"][\"MyCollection\"]\n",
        "print(json.dumps(result, indent=2))"
      ]
    },
    {
      "cell_type": "markdown",
      "metadata": {
        "id": "Bn-ELUA_iJVM"
      },
      "source": [
        "### nearObject Example\n",
        "\n",
        "Weaviate also allows you to search for similar objects.\n",
        "\n",
        "See [the docs](https://weaviate.io/developers/weaviate/search/similarity#an-object) for more."
      ]
    },
    {
      "cell_type": "markdown",
      "metadata": {
        "id": "uI9GY5kOihM9"
      },
      "source": [
        "**Fourth example** - \n",
        "Search through `MyCollection` for similar objects, by providing an id from the previous query. \n",
        "\n",
        "> Note #1: The id was taken from the query above <br/>\n",
        "> The generated id for you might be different.\n",
        "\n",
        "> Note #2: The first object returned is always itself."
      ]
    },
    {
      "cell_type": "code",
      "execution_count": null,
      "metadata": {
        "id": "e5AKFSQJbeRB"
      },
      "outputs": [],
      "source": [
        "response = (\n",
        "    client.query\n",
        "    .get(\"MyCollection\", [\"title\"])\n",
        "    .with_near_object({ # the id of the the search object\n",
        "        \"id\": \"a9866375-03f7-491a-9a14-5152efe2ea09\"\n",
        "    })\n",
        "    .with_limit(3)\n",
        "    .with_additional([\"distance\"])\n",
        "    .do()\n",
        ")\n",
        "\n",
        "result = response[\"data\"][\"Get\"][\"MyCollection\"]\n",
        "print(json.dumps(result, indent=2))"
      ]
    }
  ],
  "metadata": {
    "colab": {
      "collapsed_sections": [
        "rJD9aP9eVcsT",
        "rgL-mnMqVf0B",
        "Ze5J8E4MWC8g",
        "bjcuCEcCXlRK",
        "XF-ln5Nsgp1C",
        "Bn-ELUA_iJVM"
      ],
      "provenance": []
    },
    "kernelspec": {
      "display_name": "Python 3.11.3 64-bit",
      "language": "python",
      "name": "python3"
    },
    "language_info": {
      "codemirror_mode": {
        "name": "ipython",
        "version": 3
      },
      "file_extension": ".py",
      "mimetype": "text/x-python",
      "name": "python",
      "nbconvert_exporter": "python",
      "pygments_lexer": "ipython3",
      "version": "3.10.12"
    },
    "vscode": {
      "interpreter": {
        "hash": "aee8b7b246df8f9039afb4144a1f6fd8d2ca17a180786b69acc140d282b71a49"
      }
    }
  },
  "nbformat": 4,
  "nbformat_minor": 0
}
