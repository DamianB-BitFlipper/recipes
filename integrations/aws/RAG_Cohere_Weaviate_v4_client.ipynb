{
 "cells": [
  {
   "cell_type": "markdown",
   "id": "0ab5ecda",
   "metadata": {},
   "source": [
    "# Retrieval-Augmented Generation with Cohere language models on Amazon Bedrock and Weaviate vector database on AWS Market place\n",
    "\n",
    "The example use case generates targeted advertisements for vacation stay listings based on a target audience. The goal is to use the user query for the target audience (e.g., “family with small children”) to retrieve the most relevant vacation stay listing (e.g., a listing with playgrounds close by) and then to generate an advertisement for the retrieved listing tailored to the target audience.\n",
    "\n",
    "Note that the following code uses the newer `v4` Weaviate Python client, which uses gRPC under the hood and is currently in beta (as of November 2023).\n",
    "\n",
    "This notebook should work well with the Data Science 3.0 kernel in SageMaker Studio.\n",
    "\n",
    "## Dataset Overview\n",
    "The dataset is available from [Inside AirBnB](http://data.insideairbnb.com/the-netherlands/north-holland/amsterdam/2023-09-03/data/listings.csv.gz) and is licensed under a [Creative Commons Attribution 4.0 International License](https://creativecommons.org/licenses/by/4.0/).\n",
    "\n",
    "Download the data and save it in a folder called `data`."
   ]
  },
  {
   "cell_type": "code",
   "execution_count": 1,
   "id": "28298d05",
   "metadata": {},
   "outputs": [
    {
     "name": "stdout",
     "output_type": "stream",
     "text": [
      "data/listings.csv already exists\n"
     ]
    }
   ],
   "source": [
    "import requests\n",
    "import gzip\n",
    "import shutil\n",
    "from pathlib import Path\n",
    "\n",
    "url = 'http://data.insideairbnb.com/the-netherlands/north-holland/amsterdam/2023-09-03/data/listings.csv.gz'\n",
    "\n",
    "# Set the paths using pathlib\n",
    "gz_file_path = Path('listings.csv.gz')\n",
    "csv_file_path = gz_file_path.with_suffix('')  # Removes the .gz extension\n",
    "data_dir = Path('data')\n",
    "new_csv_file_path = data_dir / 'listings.csv'\n",
    "\n",
    "if new_csv_file_path.exists():\n",
    "    print(f\"{new_csv_file_path} already exists\")\n",
    "else:\n",
    "    # Download the file from `url` and save it locally\n",
    "    response = requests.get(url, stream=True)\n",
    "    with gz_file_path.open('wb') as file:\n",
    "        for chunk in response.iter_content(chunk_size=1024):\n",
    "            if chunk:  # filter out keep-alive new chunks\n",
    "                file.write(chunk)\n",
    "\n",
    "    # Unzip the gz file to csv\n",
    "    with gzip.open(gz_file_path, 'rb') as f_in:\n",
    "        with csv_file_path.open('wb') as f_out:\n",
    "            shutil.copyfileobj(f_in, f_out)\n",
    "\n",
    "    # Make a new directory for storing the data if it doesn't exist\n",
    "    data_dir.mkdir(exist_ok=True)\n",
    "\n",
    "    # Move the csv file to the data directory\n",
    "    csv_file_path.rename(new_csv_file_path)\n",
    "\n",
    "    # Remove the original gz file\n",
    "    gz_file_path.unlink()"
   ]
  },
  {
   "cell_type": "code",
   "execution_count": 2,
   "id": "77c323f7",
   "metadata": {
    "ExecuteTime": {
     "end_time": "2023-10-31T17:14:33.652765Z",
     "start_time": "2023-10-31T17:14:32.009228Z"
    }
   },
   "outputs": [
    {
     "data": {
      "text/html": [
       "<div>\n",
       "<style scoped>\n",
       "    .dataframe tbody tr th:only-of-type {\n",
       "        vertical-align: middle;\n",
       "    }\n",
       "\n",
       "    .dataframe tbody tr th {\n",
       "        vertical-align: top;\n",
       "    }\n",
       "\n",
       "    .dataframe thead th {\n",
       "        text-align: right;\n",
       "    }\n",
       "</style>\n",
       "<table border=\"1\" class=\"dataframe\">\n",
       "  <thead>\n",
       "    <tr style=\"text-align: right;\">\n",
       "      <th></th>\n",
       "      <th>description</th>\n",
       "      <th>neighborhood_overview</th>\n",
       "      <th>host_name</th>\n",
       "      <th>property_type</th>\n",
       "    </tr>\n",
       "  </thead>\n",
       "  <tbody>\n",
       "    <tr>\n",
       "      <th>0</th>\n",
       "      <td>Really quiet, spacious and safe, a nice place ...</td>\n",
       "      <td>The neighborhood is very green, quiet, safe an...</td>\n",
       "      <td>Xsjong</td>\n",
       "      <td>Private room in condo</td>\n",
       "    </tr>\n",
       "    <tr>\n",
       "      <th>1</th>\n",
       "      <td>Our cool and spacious loft is perfect for a st...</td>\n",
       "      <td>Our neighbourhood is ons of the most beautiful...</td>\n",
       "      <td>J &amp; R</td>\n",
       "      <td>Entire rental unit</td>\n",
       "    </tr>\n",
       "    <tr>\n",
       "      <th>2</th>\n",
       "      <td>Room to rent in my houseboat. The room has a p...</td>\n",
       "      <td>It is just outside the Jordan in between the c...</td>\n",
       "      <td>Nicole</td>\n",
       "      <td>Private room in boat</td>\n",
       "    </tr>\n",
       "    <tr>\n",
       "      <th>3</th>\n",
       "      <td>Spacious houseboat in Amsterdam, suitable for ...</td>\n",
       "      <td>The houseboat lies in an area with ± 200 house...</td>\n",
       "      <td>Danielle</td>\n",
       "      <td>Houseboat</td>\n",
       "    </tr>\n",
       "    <tr>\n",
       "      <th>4</th>\n",
       "      <td>Royal Bed &amp; Coffee Room with a very comfortabl...</td>\n",
       "      <td>The building is located in Amsterdam centre in...</td>\n",
       "      <td>Marcel</td>\n",
       "      <td>Private room in rental unit</td>\n",
       "    </tr>\n",
       "  </tbody>\n",
       "</table>\n",
       "</div>"
      ],
      "text/plain": [
       "                                         description  \\\n",
       "0  Really quiet, spacious and safe, a nice place ...   \n",
       "1  Our cool and spacious loft is perfect for a st...   \n",
       "2  Room to rent in my houseboat. The room has a p...   \n",
       "3  Spacious houseboat in Amsterdam, suitable for ...   \n",
       "4  Royal Bed & Coffee Room with a very comfortabl...   \n",
       "\n",
       "                               neighborhood_overview host_name  \\\n",
       "0  The neighborhood is very green, quiet, safe an...    Xsjong   \n",
       "1  Our neighbourhood is ons of the most beautiful...     J & R   \n",
       "2  It is just outside the Jordan in between the c...    Nicole   \n",
       "3  The houseboat lies in an area with ± 200 house...  Danielle   \n",
       "4  The building is located in Amsterdam centre in...    Marcel   \n",
       "\n",
       "                 property_type  \n",
       "0        Private room in condo  \n",
       "1           Entire rental unit  \n",
       "2         Private room in boat  \n",
       "3                    Houseboat  \n",
       "4  Private room in rental unit  "
      ]
     },
     "metadata": {},
     "output_type": "display_data"
    }
   ],
   "source": [
    "import pandas as pd\n",
    "import json\n",
    "\n",
    "# Read CSV file\n",
    "csv_file = './data/listings.csv'\n",
    "df = pd.read_csv(csv_file, usecols=['host_name',\n",
    "                                    'property_type',\n",
    "                                    'description',\n",
    "                                    'neighborhood_overview',\n",
    "                                    ])\n",
    "\n",
    "df.fillna('Unknown', inplace=True)\n",
    "\n",
    "display(df.head())"
   ]
  },
  {
   "cell_type": "markdown",
   "id": "cf847d76",
   "metadata": {},
   "source": [
    "## Prerequisites\n",
    "To be able to follow along and use any AWS services in the following tutorial, please make sure you have an [AWS account](https://signin.aws.amazon.com/signin?redirect_uri=https%3A%2F%2Fportal.aws.amazon.com%2Fbilling%2Fsignup%2Fresume&client_id=signup).\n",
    "\n",
    "## Step 1: Enable components of the AI-native technology stack\n",
    "First, you will need to enable the relevant components discussed in the solution overview in your AWS account.\n",
    "First, enable access to the Cohere Command and Embed foundation models available on Amazon Bedrock through the AWS Management Console. Navigate to the Model access page, click on Edit, and select the foundation models of your choice.\n",
    "\n",
    "Next, set up a Weaviate cluster. First, subscribe to the [Weaviate Kubernetes Cluster on AWS Marketplace](https://aws.amazon.com/marketplace/pp/prodview-cicacyv63r43i). Then, launch the software using a [CloudFormation template according to your preferred availability zone](https://weaviate.io/developers/weaviate/installation/aws-marketplace#aws-marketplace). The CloudFormation template is pre-filled with default values. To follow along in this guide, edit the following fields:\n",
    "* Stack name: Enter a stack name\n",
    "* Authentication: It is recommended to enable authentication by setting helmauthenticationtype to apikey and defining a helmauthenticationapikey.\n",
    "* Enabled modules: Make sure “tex2vec-aws” and “generative-aws” are present in the list of enabled modules within Weaviate.\n",
    "\n",
    "This template takes about 30 minutes to complete."
   ]
  },
  {
   "cell_type": "markdown",
   "id": "11420381",
   "metadata": {},
   "source": [
    "## Step 2: Connect to Weaviate\n",
    "On the SageMaker console, navigate to Notebook instances and create a new notebook instance.\n",
    "\n",
    "Then, install the Weaviate client package with the required dependencies:"
   ]
  },
  {
   "cell_type": "code",
   "execution_count": 3,
   "id": "b3ddd03a",
   "metadata": {
    "ExecuteTime": {
     "end_time": "2023-10-31T17:22:47.452815Z",
     "start_time": "2023-10-31T17:22:47.448949Z"
    }
   },
   "outputs": [],
   "source": [
    "# # Uncomment & run this if you need to install the weaviate client\n",
    "# !pip install -U \"weaviate-client\""
   ]
  },
  {
   "cell_type": "markdown",
   "id": "819ca837",
   "metadata": {},
   "source": [
    "Now, you can connect to your Weaviate instance with the following code. You can find the relevant information as follows:\n",
    "* Weaviate URL: Access Weaviate via the load balancer URL. Go to the Services section of AWS, under EC2 > Load Balancers find the load balancer, and look for the DNS name column.\n",
    "* Weaviate API Key: This is the key you set earlier in the CloudFormation template (helmauthenticationapikey).\n",
    "* AWS Access Key: You can retrieve the access keys for your user in the AWS Identity and Access Management (IAM) Console."
   ]
  },
  {
   "cell_type": "code",
   "execution_count": 4,
   "id": "68d0631b",
   "metadata": {},
   "outputs": [],
   "source": [
    "import weaviate\n",
    "from weaviate.connect import ConnectionParams\n",
    "import os\n",
    "\n",
    "client = weaviate.WeaviateClient(\n",
    "    ConnectionParams.from_url(\"http://localhost:8080\", grpc_port=50051),  # e.g. weaviate.ConnectionParams.from_url(\"http://localhost:8080\", grpc_port=50051)\n",
    "    additional_headers={\n",
    "        \"X-AWS-Access-Key\": os.getenv(\"AWS_ACCESS_KEY\"),\n",
    "        \"X-AWS-Secret-Key\": os.getenv(\"AWS_SECRET_KEY\")\n",
    "    }\n",
    ")"
   ]
  },
  {
   "cell_type": "code",
   "execution_count": 5,
   "id": "88a53dee",
   "metadata": {},
   "outputs": [
    {
     "name": "stdout",
     "output_type": "stream",
     "text": [
      "True\n"
     ]
    }
   ],
   "source": [
    "import weaviate\n",
    "from weaviate.connect import ConnectionParams\n",
    "import os\n",
    "\n",
    "# # Modify to use your own URL & credentials\n",
    "# client = weaviate.WeaviateClient(\n",
    "#     ConnectionParams.from_url(\"<YOUR-WEAVIATE-URL>\", grpc_port=50051),  # e.g. weaviate.ConnectionParams.from_url(\"http://localhost:8080\", grpc_port=50051)\n",
    "#     auth_client_secret=weaviate.AuthApiKey(\"<YOUR-WEAVIATE-API-KEY>\"),  # If your Weaviate instance requires an API key for authentication\n",
    "#     additional_headers={\n",
    "#         \"X-AWS-Access-Key\": \"<AWS-ACCESS-KEY>\",\n",
    "#         \"X-AWS-Secret-Key\": \"<AWS-ACCESS-SECRET>\"\n",
    "#     }\n",
    "# )\n",
    "\n",
    "# Here's an example of how to use the weaviate client\n",
    "client = weaviate.WeaviateClient(\n",
    "    ConnectionParams.from_url(\"http://localhost:8080\", grpc_port=50051),  # e.g. weaviate.ConnectionParams.from_url(\"http://localhost:8080\", grpc_port=50051)\n",
    "    additional_headers={\n",
    "        \"X-AWS-Access-Key\": os.getenv(\"AWS_ACCESS_KEY\"),\n",
    "        \"X-AWS-Secret-Key\": os.getenv(\"AWS_SECRET_KEY\")\n",
    "    }\n",
    ")\n",
    "\n",
    "client.connect()\n",
    "\n",
    "print(client.is_ready())"
   ]
  },
  {
   "cell_type": "code",
   "execution_count": 6,
   "id": "04205119",
   "metadata": {},
   "outputs": [
    {
     "data": {
      "text/plain": [
       "{'hostname': 'http://[::]:8080',\n",
       " 'modules': {'backup-filesystem': {'backupsPath': '/var/lib/weaviate/backups'},\n",
       "  'generative-aws': {'documentationHref': 'https://docs.aws.amazon.com/bedrock/latest/APIReference/welcome.html',\n",
       "   'name': 'Generative Search - AWS'},\n",
       "  'generative-cohere': {'documentationHref': 'https://docs.cohere.com/reference/generate',\n",
       "   'name': 'Generative Search - Cohere'},\n",
       "  'generative-openai': {'documentationHref': 'https://platform.openai.com/docs/api-reference/completions',\n",
       "   'name': 'Generative Search - OpenAI'},\n",
       "  'reranker-cohere': {'documentationHref': 'https://txt.cohere.com/rerank/',\n",
       "   'name': 'Reranker - Cohere'},\n",
       "  'text2vec-aws': {'documentationHref': 'https://cloud.google.com/vertex-ai/docs/generative-ai/embeddings/get-text-embeddings',\n",
       "   'name': 'AWS Module'},\n",
       "  'text2vec-cohere': {'documentationHref': 'https://docs.cohere.ai/embedding-wiki/',\n",
       "   'name': 'Cohere Module'},\n",
       "  'text2vec-huggingface': {'documentationHref': 'https://huggingface.co/docs/api-inference/detailed_parameters#feature-extraction-task',\n",
       "   'name': 'Hugging Face Module'},\n",
       "  'text2vec-openai': {'documentationHref': 'https://platform.openai.com/docs/guides/embeddings/what-are-embeddings',\n",
       "   'name': 'OpenAI Module'}},\n",
       " 'version': '1.24.1'}"
      ]
     },
     "execution_count": 6,
     "metadata": {},
     "output_type": "execute_result"
    }
   ],
   "source": [
    "client.get_meta()"
   ]
  },
  {
   "cell_type": "markdown",
   "id": "9cdc2e12",
   "metadata": {},
   "source": [
    "## Step 3: Configure the Amazon Bedrock module to enable Cohere models\n",
    "\n",
    "Next, you will define a data collection (i.e., `class`) called `Listings` to store the listings’ data objects, which is analogous to creating a table in a relational database. In this step, you will configure the relevant modules to enable the usage of Cohere language models hosted on Amazon Bedrock natively from within the Weaviate vector database. The vectorizer (`\"text2vec-aws\"`) and generative module (` \"generative-aws\"`) are specified in the data collection definition. Both of these modules take three parameters:\n",
    "* `\"service\"`: `\"bedrock\"` for Amazon Bedrock (Alternatively, `\"sagemaker\"` for Amazon Sagemaker Jumpstart)\n",
    "* `\"Region\"`: The region where your model is deployed\n",
    "* `\"model\"`: The foundation model’s name\n",
    "\n",
    "In this step, you will also define the structure of the data collection by configuring its properties. Aside from the property’s name and data type, you can also configure if only the data object shall be stored or if it shall be stored together with its vector embeddings. In this example, `host_name` and `property_type` are not vectorized."
   ]
  },
  {
   "cell_type": "markdown",
   "id": "8be773b9",
   "metadata": {},
   "source": [
    "Run the following code to create the collection in your Weaviate instance."
   ]
  },
  {
   "cell_type": "code",
   "execution_count": 7,
   "id": "ba66b1a3",
   "metadata": {},
   "outputs": [
    {
     "name": "stdout",
     "output_type": "stream",
     "text": [
      "<weaviate.collections.config._ConfigCollection object at 0x1684542b0>\n"
     ]
    }
   ],
   "source": [
    "import weaviate.classes.config as wc\n",
    "\n",
    "client.collections.delete(\"Listings\")\n",
    "\n",
    "listings = client.collections.create(\n",
    "    name=\"Listings\",\n",
    "    description=\"AirBnb Listings\",\n",
    "    vectorizer_config=wc.Configure.Vectorizer.text2vec_aws(\n",
    "        service=\"bedrock\",\n",
    "        region=\"us-east-1\",\n",
    "        model=\"cohere.embed-english-v3\",\n",
    "        vectorize_collection_name=False,\n",
    "    ),\n",
    "    generative_config=wc.Configure.Generative.aws(\n",
    "        region=\"us-east-1\",\n",
    "        model=\"cohere.command-text-v14\",\n",
    "    ),\n",
    "    properties=[\n",
    "        wc.Property(\n",
    "            name=\"description\",\n",
    "            data_type=wc.DataType.TEXT,\n",
    "            description=\"The description of the apartment listing\",\n",
    "        ),\n",
    "        wc.Property(\n",
    "            name=\"host_name\",\n",
    "            data_type=wc.DataType.TEXT,\n",
    "            description=\"The name of the host of the apartment listing\",\n",
    "            skip_vectorization=True,\n",
    "            vectorize_property_name=False\n",
    "        ),\n",
    "        wc.Property(\n",
    "            name=\"neighborhood_overview\",\n",
    "            data_type=wc.DataType.TEXT,\n",
    "            description=\"The description of  the neighbourhood of the apartment listing\",\n",
    "        ),\n",
    "        wc.Property(\n",
    "            name=\"property_type\",\n",
    "            data_type=wc.DataType.TEXT,\n",
    "            description=\"The type of property of the listing\",\n",
    "            skip_vectorization=True,\n",
    "            vectorize_property_name=False\n",
    "        )\n",
    "    ]\n",
    ")\n",
    "\n",
    "listings = client.collections.get(\"Listings\")\n",
    "print(listings.config)"
   ]
  },
  {
   "cell_type": "markdown",
   "id": "561a5203",
   "metadata": {},
   "source": [
    "## Step 4: Ingest data into the Weaviate vector database\n",
    "\n",
    "You can now add objects to Weaviate. You will be using a batch import process for maximum efficiency. Run the code below to import data. During the import, Weaviate will use the defined vectorizer to create a vector embedding for each object. The following code loads objects initializes a batch process, and adds objects to the target collection one by one."
   ]
  },
  {
   "cell_type": "code",
   "execution_count": 8,
   "id": "7c44c4d8",
   "metadata": {},
   "outputs": [],
   "source": [
    "with listings.batch.dynamic() as batch:\n",
    "    for _, row in df[:10].iterrows():\n",
    "        batch.add_object(\n",
    "            properties={\n",
    "                \"description\": row[\"description\"],\n",
    "                \"host_name\": row[\"host_name\"],\n",
    "                \"neighborhood_overview\": row[\"neighborhood_overview\"],\n",
    "                \"property_type\": row[\"property_type\"],\n",
    "            }\n",
    "        )\n",
    "        if batch.number_errors > 10:  # Monitor the number of errors during import\n",
    "            print(\"Too many errors, exiting\")\n",
    "            break\n",
    "\n",
    "\n",
    "if len(listings.batch.failed_objects) > 0:\n",
    "    print(\"Failed to add some objects... taking a look at the first 5 failed objects:\")\n",
    "    for obj in listings.batch.failed_objects[:5]:\n",
    "        print(obj)"
   ]
  },
  {
   "cell_type": "code",
   "execution_count": 15,
   "id": "80e48953",
   "metadata": {},
   "outputs": [
    {
     "data": {
      "text/plain": [
       "AggregateReturn(properties={}, total_count=0)"
      ]
     },
     "execution_count": 15,
     "metadata": {},
     "output_type": "execute_result"
    }
   ],
   "source": [
    "listings.aggregate.over_all(total_count=True)"
   ]
  },
  {
   "cell_type": "markdown",
   "id": "d53cf711",
   "metadata": {},
   "source": [
    "## Step 5: Retrieval-Augmented Generation to generate targeted advertisements\n",
    "\n",
    "Finally, you can build a RAG pipeline by implementing a generative search query on your Weaviate instance. For this, you will first define a prompt template in the form of an f-string that can take in the user query (`{target_audience}`) directly and the additional context (`{{host_name}}`, `{{property_type}}`, `{{description}}`, `{{neighborhood_overview}}`) from the vector database at runtime.\n",
    "\n",
    "Next, you will run a generative search query. This prompts the defined generative model with a prompt that is comprised of the user query as well as the retrieved data. The following query retrieves one listing object (`.with_limit(1)`) from the `Listings` collection that is most similar to the user query (`.with_near_text({\"concepts\": target_audience})`). Then the user query (`target_audience`) and the retrieved listings properties (`[\"description\", \"neighborhood\", \"host_name\", \"property_type\"]`) are fed into the prompt template."
   ]
  },
  {
   "cell_type": "code",
   "execution_count": 9,
   "id": "4cd96000",
   "metadata": {},
   "outputs": [],
   "source": [
    "def generate_targeted_ad(target_audience):\n",
    "    generate_prompt = f\"\"\"You are a copywriter.\n",
    "    Write short advertisement for the following vacation stay.\n",
    "    Host: {{host_name}}\n",
    "    Property type: {{property_type}}\n",
    "    Description: {{description}}\n",
    "    Neighborhood: {{neighborhood_overview}}\n",
    "    Target audience: {target_audience}\n",
    "    \"\"\"\n",
    "\n",
    "    result = listings.generate.near_text(\n",
    "        query=target_audience,\n",
    "        limit=1,\n",
    "        single_prompt=generate_prompt\n",
    "    )\n",
    "\n",
    "    return result"
   ]
  },
  {
   "cell_type": "markdown",
   "id": "3835d003",
   "metadata": {},
   "source": [
    "Below, you can see that the results for the `target_audience = “Family with small children”`."
   ]
  },
  {
   "cell_type": "code",
   "execution_count": 10,
   "id": "f2886886",
   "metadata": {},
   "outputs": [
    {
     "ename": "WeaviateQueryError",
     "evalue": "Query call with protocol GRPC search failed with message Deadline Exceeded.",
     "output_type": "error",
     "traceback": [
      "\u001b[0;31m---------------------------------------------------------------------------\u001b[0m",
      "\u001b[0;31m_InactiveRpcError\u001b[0m                         Traceback (most recent call last)",
      "File \u001b[0;32m~/code/recipes/.venv/lib/python3.10/site-packages/weaviate/collections/grpc/query.py:611\u001b[0m, in \u001b[0;36m_QueryGRPC.__call\u001b[0;34m(self, request)\u001b[0m\n\u001b[1;32m    610\u001b[0m res: search_get_pb2\u001b[38;5;241m.\u001b[39mSearchReply  \u001b[38;5;66;03m# According to PEP-0526\u001b[39;00m\n\u001b[0;32m--> 611\u001b[0m res, _ \u001b[38;5;241m=\u001b[39m \u001b[38;5;28;43mself\u001b[39;49m\u001b[38;5;241;43m.\u001b[39;49m\u001b[43m_connection\u001b[49m\u001b[38;5;241;43m.\u001b[39;49m\u001b[43mgrpc_stub\u001b[49m\u001b[38;5;241;43m.\u001b[39;49m\u001b[43mSearch\u001b[49m\u001b[38;5;241;43m.\u001b[39;49m\u001b[43mwith_call\u001b[49m\u001b[43m(\u001b[49m\n\u001b[1;32m    612\u001b[0m \u001b[43m    \u001b[49m\u001b[43mrequest\u001b[49m\u001b[43m,\u001b[49m\n\u001b[1;32m    613\u001b[0m \u001b[43m    \u001b[49m\u001b[43mmetadata\u001b[49m\u001b[38;5;241;43m=\u001b[39;49m\u001b[38;5;28;43mself\u001b[39;49m\u001b[38;5;241;43m.\u001b[39;49m\u001b[43m_connection\u001b[49m\u001b[38;5;241;43m.\u001b[39;49m\u001b[43mgrpc_headers\u001b[49m\u001b[43m(\u001b[49m\u001b[43m)\u001b[49m\u001b[43m,\u001b[49m\n\u001b[1;32m    614\u001b[0m \u001b[43m    \u001b[49m\u001b[43mtimeout\u001b[49m\u001b[38;5;241;43m=\u001b[39;49m\u001b[38;5;28;43mself\u001b[39;49m\u001b[38;5;241;43m.\u001b[39;49m\u001b[43m_connection\u001b[49m\u001b[38;5;241;43m.\u001b[39;49m\u001b[43mtimeout_config\u001b[49m\u001b[38;5;241;43m.\u001b[39;49m\u001b[43mquery\u001b[49m\u001b[43m,\u001b[49m\n\u001b[1;32m    615\u001b[0m \u001b[43m\u001b[49m\u001b[43m)\u001b[49m\n\u001b[1;32m    617\u001b[0m \u001b[38;5;28;01mreturn\u001b[39;00m res\n",
      "File \u001b[0;32m~/code/recipes/.venv/lib/python3.10/site-packages/grpc/_channel.py:1193\u001b[0m, in \u001b[0;36m_UnaryUnaryMultiCallable.with_call\u001b[0;34m(self, request, timeout, metadata, credentials, wait_for_ready, compression)\u001b[0m\n\u001b[1;32m   1187\u001b[0m (\n\u001b[1;32m   1188\u001b[0m     state,\n\u001b[1;32m   1189\u001b[0m     call,\n\u001b[1;32m   1190\u001b[0m ) \u001b[38;5;241m=\u001b[39m \u001b[38;5;28mself\u001b[39m\u001b[38;5;241m.\u001b[39m_blocking(\n\u001b[1;32m   1191\u001b[0m     request, timeout, metadata, credentials, wait_for_ready, compression\n\u001b[1;32m   1192\u001b[0m )\n\u001b[0;32m-> 1193\u001b[0m \u001b[38;5;28;01mreturn\u001b[39;00m \u001b[43m_end_unary_response_blocking\u001b[49m\u001b[43m(\u001b[49m\u001b[43mstate\u001b[49m\u001b[43m,\u001b[49m\u001b[43m \u001b[49m\u001b[43mcall\u001b[49m\u001b[43m,\u001b[49m\u001b[43m \u001b[49m\u001b[38;5;28;43;01mTrue\u001b[39;49;00m\u001b[43m,\u001b[49m\u001b[43m \u001b[49m\u001b[38;5;28;43;01mNone\u001b[39;49;00m\u001b[43m)\u001b[49m\n",
      "File \u001b[0;32m~/code/recipes/.venv/lib/python3.10/site-packages/grpc/_channel.py:1005\u001b[0m, in \u001b[0;36m_end_unary_response_blocking\u001b[0;34m(state, call, with_call, deadline)\u001b[0m\n\u001b[1;32m   1004\u001b[0m \u001b[38;5;28;01melse\u001b[39;00m:\n\u001b[0;32m-> 1005\u001b[0m     \u001b[38;5;28;01mraise\u001b[39;00m _InactiveRpcError(state)\n",
      "\u001b[0;31m_InactiveRpcError\u001b[0m: <_InactiveRpcError of RPC that terminated with:\n\tstatus = StatusCode.DEADLINE_EXCEEDED\n\tdetails = \"Deadline Exceeded\"\n\tdebug_error_string = \"UNKNOWN:Error received from peer  {created_time:\"2024-03-04T17:53:49.699718+00:00\", grpc_status:4, grpc_message:\"Deadline Exceeded\"}\"\n>",
      "\nDuring handling of the above exception, another exception occurred:\n",
      "\u001b[0;31mWeaviateQueryError\u001b[0m                        Traceback (most recent call last)",
      "Cell \u001b[0;32mIn[10], line 1\u001b[0m\n\u001b[0;32m----> 1\u001b[0m result \u001b[38;5;241m=\u001b[39m \u001b[43mgenerate_targeted_ad\u001b[49m\u001b[43m(\u001b[49m\u001b[38;5;124;43m\"\u001b[39;49m\u001b[38;5;124;43mFamilies with young children\u001b[39;49m\u001b[38;5;124;43m\"\u001b[39;49m\u001b[43m)\u001b[49m\n\u001b[1;32m      2\u001b[0m \u001b[38;5;28mprint\u001b[39m(result\u001b[38;5;241m.\u001b[39mobjects[\u001b[38;5;241m0\u001b[39m]\u001b[38;5;241m.\u001b[39mgenerated)\n",
      "Cell \u001b[0;32mIn[9], line 11\u001b[0m, in \u001b[0;36mgenerate_targeted_ad\u001b[0;34m(target_audience)\u001b[0m\n\u001b[1;32m      1\u001b[0m \u001b[38;5;28;01mdef\u001b[39;00m \u001b[38;5;21mgenerate_targeted_ad\u001b[39m(target_audience):\n\u001b[1;32m      2\u001b[0m     generate_prompt \u001b[38;5;241m=\u001b[39m \u001b[38;5;124mf\u001b[39m\u001b[38;5;124m\"\"\"\u001b[39m\u001b[38;5;124mYou are a copywriter.\u001b[39m\n\u001b[1;32m      3\u001b[0m \u001b[38;5;124m    Write short advertisement for the following vacation stay.\u001b[39m\n\u001b[1;32m      4\u001b[0m \u001b[38;5;124m    Host: \u001b[39m\u001b[38;5;130;01m{{\u001b[39;00m\u001b[38;5;124mhost_name\u001b[39m\u001b[38;5;130;01m}}\u001b[39;00m\n\u001b[0;32m   (...)\u001b[0m\n\u001b[1;32m      8\u001b[0m \u001b[38;5;124m    Target audience: \u001b[39m\u001b[38;5;132;01m{\u001b[39;00mtarget_audience\u001b[38;5;132;01m}\u001b[39;00m\n\u001b[1;32m      9\u001b[0m \u001b[38;5;124m    \u001b[39m\u001b[38;5;124m\"\"\"\u001b[39m\n\u001b[0;32m---> 11\u001b[0m     result \u001b[38;5;241m=\u001b[39m \u001b[43mlistings\u001b[49m\u001b[38;5;241;43m.\u001b[39;49m\u001b[43mgenerate\u001b[49m\u001b[38;5;241;43m.\u001b[39;49m\u001b[43mnear_text\u001b[49m\u001b[43m(\u001b[49m\n\u001b[1;32m     12\u001b[0m \u001b[43m        \u001b[49m\u001b[43mquery\u001b[49m\u001b[38;5;241;43m=\u001b[39;49m\u001b[43mtarget_audience\u001b[49m\u001b[43m,\u001b[49m\n\u001b[1;32m     13\u001b[0m \u001b[43m        \u001b[49m\u001b[43mlimit\u001b[49m\u001b[38;5;241;43m=\u001b[39;49m\u001b[38;5;241;43m1\u001b[39;49m\u001b[43m,\u001b[49m\n\u001b[1;32m     14\u001b[0m \u001b[43m        \u001b[49m\u001b[43msingle_prompt\u001b[49m\u001b[38;5;241;43m=\u001b[39;49m\u001b[43mgenerate_prompt\u001b[49m\n\u001b[1;32m     15\u001b[0m \u001b[43m    \u001b[49m\u001b[43m)\u001b[49m\n\u001b[1;32m     17\u001b[0m     \u001b[38;5;28;01mreturn\u001b[39;00m result\n",
      "File \u001b[0;32m~/code/recipes/.venv/lib/python3.10/site-packages/weaviate/collections/queries/near_text/generate.py:94\u001b[0m, in \u001b[0;36m_NearTextGenerate.near_text\u001b[0;34m(self, query, single_prompt, grouped_task, grouped_properties, certainty, distance, move_to, move_away, limit, offset, auto_limit, filters, group_by, rerank, target_vector, include_vector, return_metadata, return_properties, return_references)\u001b[0m\n\u001b[1;32m     26\u001b[0m \u001b[38;5;28;01mdef\u001b[39;00m \u001b[38;5;21mnear_text\u001b[39m(\n\u001b[1;32m     27\u001b[0m     \u001b[38;5;28mself\u001b[39m,\n\u001b[1;32m     28\u001b[0m     query: Union[List[\u001b[38;5;28mstr\u001b[39m], \u001b[38;5;28mstr\u001b[39m],\n\u001b[0;32m   (...)\u001b[0m\n\u001b[1;32m     47\u001b[0m     return_references: Optional[ReturnReferences[TReferences]] \u001b[38;5;241m=\u001b[39m \u001b[38;5;28;01mNone\u001b[39;00m,\n\u001b[1;32m     48\u001b[0m ) \u001b[38;5;241m-\u001b[39m\u001b[38;5;241m>\u001b[39m GenerativeNearMediaReturnType[Properties, References, TProperties, TReferences]:\n\u001b[1;32m     49\u001b[0m \u001b[38;5;250m    \u001b[39m\u001b[38;5;124;03m\"\"\"Perform retrieval-augmented generation (RaG) on the results of a by-image object search in this collection using the image-capable vectorization module and vector-based similarity search.\u001b[39;00m\n\u001b[1;32m     50\u001b[0m \n\u001b[1;32m     51\u001b[0m \u001b[38;5;124;03m    See the [docs](https://weaviate.io/developers/weaviate/api/graphql/search-operators#neartext) for a more detailed explanation.\u001b[39;00m\n\u001b[0;32m   (...)\u001b[0m\n\u001b[1;32m     92\u001b[0m \u001b[38;5;124;03m            If the request to the Weaviate server fails.\u001b[39;00m\n\u001b[1;32m     93\u001b[0m \u001b[38;5;124;03m    \"\"\"\u001b[39;00m\n\u001b[0;32m---> 94\u001b[0m     res \u001b[38;5;241m=\u001b[39m \u001b[38;5;28;43mself\u001b[39;49m\u001b[38;5;241;43m.\u001b[39;49m\u001b[43m_query\u001b[49m\u001b[38;5;241;43m.\u001b[39;49m\u001b[43mnear_text\u001b[49m\u001b[43m(\u001b[49m\n\u001b[1;32m     95\u001b[0m \u001b[43m        \u001b[49m\u001b[43mnear_text\u001b[49m\u001b[38;5;241;43m=\u001b[39;49m\u001b[43mquery\u001b[49m\u001b[43m,\u001b[49m\n\u001b[1;32m     96\u001b[0m \u001b[43m        \u001b[49m\u001b[43mcertainty\u001b[49m\u001b[38;5;241;43m=\u001b[39;49m\u001b[43mcertainty\u001b[49m\u001b[43m,\u001b[49m\n\u001b[1;32m     97\u001b[0m \u001b[43m        \u001b[49m\u001b[43mdistance\u001b[49m\u001b[38;5;241;43m=\u001b[39;49m\u001b[43mdistance\u001b[49m\u001b[43m,\u001b[49m\n\u001b[1;32m     98\u001b[0m \u001b[43m        \u001b[49m\u001b[43mmove_to\u001b[49m\u001b[38;5;241;43m=\u001b[39;49m\u001b[43mmove_to\u001b[49m\u001b[43m,\u001b[49m\n\u001b[1;32m     99\u001b[0m \u001b[43m        \u001b[49m\u001b[43mmove_away\u001b[49m\u001b[38;5;241;43m=\u001b[39;49m\u001b[43mmove_away\u001b[49m\u001b[43m,\u001b[49m\n\u001b[1;32m    100\u001b[0m \u001b[43m        \u001b[49m\u001b[43mlimit\u001b[49m\u001b[38;5;241;43m=\u001b[39;49m\u001b[43mlimit\u001b[49m\u001b[43m,\u001b[49m\n\u001b[1;32m    101\u001b[0m \u001b[43m        \u001b[49m\u001b[43moffset\u001b[49m\u001b[38;5;241;43m=\u001b[39;49m\u001b[43moffset\u001b[49m\u001b[43m,\u001b[49m\n\u001b[1;32m    102\u001b[0m \u001b[43m        \u001b[49m\u001b[43mautocut\u001b[49m\u001b[38;5;241;43m=\u001b[39;49m\u001b[43mauto_limit\u001b[49m\u001b[43m,\u001b[49m\n\u001b[1;32m    103\u001b[0m \u001b[43m        \u001b[49m\u001b[43mfilters\u001b[49m\u001b[38;5;241;43m=\u001b[39;49m\u001b[43mfilters\u001b[49m\u001b[43m,\u001b[49m\n\u001b[1;32m    104\u001b[0m \u001b[43m        \u001b[49m\u001b[43mgroup_by\u001b[49m\u001b[38;5;241;43m=\u001b[39;49m\u001b[43m_GroupBy\u001b[49m\u001b[38;5;241;43m.\u001b[39;49m\u001b[43mfrom_input\u001b[49m\u001b[43m(\u001b[49m\u001b[43mgroup_by\u001b[49m\u001b[43m)\u001b[49m\u001b[43m,\u001b[49m\n\u001b[1;32m    105\u001b[0m \u001b[43m        \u001b[49m\u001b[43mrerank\u001b[49m\u001b[38;5;241;43m=\u001b[39;49m\u001b[43mrerank\u001b[49m\u001b[43m,\u001b[49m\n\u001b[1;32m    106\u001b[0m \u001b[43m        \u001b[49m\u001b[43mtarget_vector\u001b[49m\u001b[38;5;241;43m=\u001b[39;49m\u001b[43mtarget_vector\u001b[49m\u001b[43m,\u001b[49m\n\u001b[1;32m    107\u001b[0m \u001b[43m        \u001b[49m\u001b[43mgenerative\u001b[49m\u001b[38;5;241;43m=\u001b[39;49m\u001b[43m_Generative\u001b[49m\u001b[43m(\u001b[49m\n\u001b[1;32m    108\u001b[0m \u001b[43m            \u001b[49m\u001b[43msingle\u001b[49m\u001b[38;5;241;43m=\u001b[39;49m\u001b[43msingle_prompt\u001b[49m\u001b[43m,\u001b[49m\n\u001b[1;32m    109\u001b[0m \u001b[43m            \u001b[49m\u001b[43mgrouped\u001b[49m\u001b[38;5;241;43m=\u001b[39;49m\u001b[43mgrouped_task\u001b[49m\u001b[43m,\u001b[49m\n\u001b[1;32m    110\u001b[0m \u001b[43m            \u001b[49m\u001b[43mgrouped_properties\u001b[49m\u001b[38;5;241;43m=\u001b[39;49m\u001b[43mgrouped_properties\u001b[49m\u001b[43m,\u001b[49m\n\u001b[1;32m    111\u001b[0m \u001b[43m        \u001b[49m\u001b[43m)\u001b[49m\u001b[43m,\u001b[49m\n\u001b[1;32m    112\u001b[0m \u001b[43m        \u001b[49m\u001b[43mreturn_metadata\u001b[49m\u001b[38;5;241;43m=\u001b[39;49m\u001b[38;5;28;43mself\u001b[39;49m\u001b[38;5;241;43m.\u001b[39;49m\u001b[43m_parse_return_metadata\u001b[49m\u001b[43m(\u001b[49m\u001b[43mreturn_metadata\u001b[49m\u001b[43m,\u001b[49m\u001b[43m \u001b[49m\u001b[43minclude_vector\u001b[49m\u001b[43m)\u001b[49m\u001b[43m,\u001b[49m\n\u001b[1;32m    113\u001b[0m \u001b[43m        \u001b[49m\u001b[43mreturn_properties\u001b[49m\u001b[38;5;241;43m=\u001b[39;49m\u001b[38;5;28;43mself\u001b[39;49m\u001b[38;5;241;43m.\u001b[39;49m\u001b[43m_parse_return_properties\u001b[49m\u001b[43m(\u001b[49m\u001b[43mreturn_properties\u001b[49m\u001b[43m)\u001b[49m\u001b[43m,\u001b[49m\n\u001b[1;32m    114\u001b[0m \u001b[43m        \u001b[49m\u001b[43mreturn_references\u001b[49m\u001b[38;5;241;43m=\u001b[39;49m\u001b[38;5;28;43mself\u001b[39;49m\u001b[38;5;241;43m.\u001b[39;49m\u001b[43m_parse_return_references\u001b[49m\u001b[43m(\u001b[49m\u001b[43mreturn_references\u001b[49m\u001b[43m)\u001b[49m\u001b[43m,\u001b[49m\n\u001b[1;32m    115\u001b[0m \u001b[43m    \u001b[49m\u001b[43m)\u001b[49m\n\u001b[1;32m    116\u001b[0m     \u001b[38;5;28;01mreturn\u001b[39;00m \u001b[38;5;28mself\u001b[39m\u001b[38;5;241m.\u001b[39m_result_to_generative_return(\n\u001b[1;32m    117\u001b[0m         res,\n\u001b[1;32m    118\u001b[0m         _QueryOptions\u001b[38;5;241m.\u001b[39mfrom_input(\n\u001b[0;32m   (...)\u001b[0m\n\u001b[1;32m    128\u001b[0m         return_references,\n\u001b[1;32m    129\u001b[0m     )\n",
      "File \u001b[0;32m~/code/recipes/.venv/lib/python3.10/site-packages/weaviate/collections/grpc/query.py:420\u001b[0m, in \u001b[0;36m_QueryGRPC.near_text\u001b[0;34m(self, near_text, certainty, distance, move_to, move_away, limit, offset, autocut, filters, group_by, generative, rerank, target_vector, return_metadata, return_properties, return_references)\u001b[0m\n\u001b[1;32m    381\u001b[0m near_text_req \u001b[38;5;241m=\u001b[39m search_get_pb2\u001b[38;5;241m.\u001b[39mNearTextSearch(\n\u001b[1;32m    382\u001b[0m     query\u001b[38;5;241m=\u001b[39mnear_text,\n\u001b[1;32m    383\u001b[0m     certainty\u001b[38;5;241m=\u001b[39mcertainty,\n\u001b[0;32m   (...)\u001b[0m\n\u001b[1;32m    403\u001b[0m     ),\n\u001b[1;32m    404\u001b[0m )\n\u001b[1;32m    406\u001b[0m request \u001b[38;5;241m=\u001b[39m \u001b[38;5;28mself\u001b[39m\u001b[38;5;241m.\u001b[39m__create_request(\n\u001b[1;32m    407\u001b[0m     limit\u001b[38;5;241m=\u001b[39mlimit,\n\u001b[1;32m    408\u001b[0m     offset\u001b[38;5;241m=\u001b[39moffset,\n\u001b[0;32m   (...)\u001b[0m\n\u001b[1;32m    417\u001b[0m     near_text\u001b[38;5;241m=\u001b[39mnear_text_req,\n\u001b[1;32m    418\u001b[0m )\n\u001b[0;32m--> 420\u001b[0m \u001b[38;5;28;01mreturn\u001b[39;00m \u001b[38;5;28;43mself\u001b[39;49m\u001b[38;5;241;43m.\u001b[39;49m\u001b[43m__call\u001b[49m\u001b[43m(\u001b[49m\u001b[43mrequest\u001b[49m\u001b[43m)\u001b[49m\n",
      "File \u001b[0;32m~/code/recipes/.venv/lib/python3.10/site-packages/weaviate/collections/grpc/query.py:620\u001b[0m, in \u001b[0;36m_QueryGRPC.__call\u001b[0;34m(self, request)\u001b[0m\n\u001b[1;32m    617\u001b[0m     \u001b[38;5;28;01mreturn\u001b[39;00m res\n\u001b[1;32m    619\u001b[0m \u001b[38;5;28;01mexcept\u001b[39;00m grpc\u001b[38;5;241m.\u001b[39mRpcError \u001b[38;5;28;01mas\u001b[39;00m e:\n\u001b[0;32m--> 620\u001b[0m     \u001b[38;5;28;01mraise\u001b[39;00m WeaviateQueryError(e\u001b[38;5;241m.\u001b[39mdetails(), \u001b[38;5;124m\"\u001b[39m\u001b[38;5;124mGRPC search\u001b[39m\u001b[38;5;124m\"\u001b[39m)\n",
      "\u001b[0;31mWeaviateQueryError\u001b[0m: Query call with protocol GRPC search failed with message Deadline Exceeded."
     ]
    }
   ],
   "source": [
    "result = generate_targeted_ad(\"Families with young children\")\n",
    "print(result.objects[0].generated)"
   ]
  },
  {
   "cell_type": "markdown",
   "id": "108cc702",
   "metadata": {},
   "source": [
    "Here is another example for an elderly couple."
   ]
  },
  {
   "cell_type": "code",
   "execution_count": null,
   "id": "ccb71c13",
   "metadata": {},
   "outputs": [],
   "source": [
    "result = generate_targeted_ad(\"Elderly couple\")\n",
    "print(result.objects[0].generated)"
   ]
  }
 ],
 "metadata": {
  "kernelspec": {
   "display_name": "Python 3 (ipykernel)",
   "language": "python",
   "name": "python3"
  },
  "language_info": {
   "codemirror_mode": {
    "name": "ipython",
    "version": 3
   },
   "file_extension": ".py",
   "mimetype": "text/x-python",
   "name": "python",
   "nbconvert_exporter": "python",
   "pygments_lexer": "ipython3",
   "version": "3.10.12"
  }
 },
 "nbformat": 4,
 "nbformat_minor": 5
}
