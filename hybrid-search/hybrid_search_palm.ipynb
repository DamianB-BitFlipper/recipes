{
  "cells": [
    {
      "cell_type": "markdown",
      "metadata": {
        "id": "rJD9aP9eVcsT"
      },
      "source": [
        "## Dependencies"
      ]
    },
    {
      "cell_type": "code",
      "execution_count": null,
      "metadata": {
        "id": "wCyahGvfjHH3"
      },
      "outputs": [],
      "source": [
        "!pip install weaviate-client"
      ]
    },
    {
      "cell_type": "markdown",
      "metadata": {
        "id": "rgL-mnMqVf0B"
      },
      "source": [
        "## Connect to Weaviate"
      ]
    },
    {
      "cell_type": "code",
      "execution_count": null,
      "metadata": {
        "id": "-yrJZaNJwcCc"
      },
      "outputs": [],
      "source": [
        "import weaviate\n",
        "from weaviate import WeaviateClient\n",
        "\n",
        "def connect_to_weaviate(palm_key) -> WeaviateClient:\n",
        "    # Connect to your local Weaviate instance deployed with Docker\n",
        "    client = weaviate.connect_to_local(\n",
        "        headers={\n",
        "            \"X-PALM-Api-Key\": palm_key,\n",
        "        }\n",
        "    )\n",
        "\n",
        "    # Option 2\n",
        "    # Connect to your Weaviate Client Service cluster\n",
        "    # client = weaviate.connect_to_wcs(\n",
        "    #     cluster_id=\"WCS-CLUSTER-ID\", # Replace with your WCS cluster ID\n",
        "    #     auth_credentials=weaviate.AuthApiKey(\n",
        "    #       api_key=\"WCS-API-KEY\" # Replace with your WCS API KEY\n",
        "    #     ),\n",
        "    #     headers={\n",
        "    #       \"X-PALM-Api-Key\": key\n",
        "    #     }\n",
        "    # )\n",
        "\n",
        "    print(client.is_ready())\n",
        "\n",
        "    return client"
      ]
    },
    {
      "cell_type": "markdown",
      "metadata": {
        "id": "CfL6wp85WzuT"
      },
      "source": [
        "### Expired Google Cloud Token"
      ]
    },
    {
      "cell_type": "markdown",
      "metadata": {
        "id": "AUIzJ34AXFPB"
      },
      "source": [
        "The Google Cloud's OAuth 2.0 access tokens only have a **one** hour lifetime. This means you have to replace the expired token with a valid one and it to Weaviate by re-instantiating the client. "
      ]
    },
    {
      "cell_type": "markdown",
      "metadata": {
        "id": "9wtTMIAsXbl-"
      },
      "source": [
        "#### Option 1: With Google Cloud CLI"
      ]
    },
    {
      "cell_type": "code",
      "execution_count": null,
      "metadata": {
        "id": "V1gpjJI1XvKs"
      },
      "outputs": [],
      "source": [
        "import subprocess\n",
        "\n",
        "def refresh_token_with_GC_CLI() -> str:\n",
        "    result = subprocess.run([\"gcloud\", \"auth\", \"print-access-token\"], capture_output=True, text=True)\n",
        "    if result.returncode != 0:\n",
        "        print(f\"Error refreshing token: {result.stderr}\")\n",
        "        return None\n",
        "    return result.stdout.strip()"
      ]
    },
    {
      "cell_type": "markdown",
      "metadata": {
        "id": "GGzpT8fRX0Vk"
      },
      "source": [
        "Then you could run the below cell periodically."
      ]
    },
    {
      "cell_type": "code",
      "execution_count": null,
      "metadata": {
        "id": "XFJvjTkwXqF8"
      },
      "outputs": [],
      "source": [
        "# Run every 60 minutes\n",
        "token = refresh_token_with_GC_CLI\n",
        "client = connect_to_weaviate(token)"
      ]
    },
    {
      "cell_type": "markdown",
      "metadata": {
        "id": "YG97B310X5Q5"
      },
      "source": [
        "#### Option 2: With `google-auth`\n",
        "\n",
        "See the links to google-auth in [Python](https://google-auth.readthedocs.io/en/master/index.html) and [Node.js](https://cloud.google.com/nodejs/docs/reference/google-auth-library/latest) libraries."
      ]
    },
    {
      "cell_type": "code",
      "execution_count": null,
      "metadata": {
        "id": "mDisIHXSXq4p"
      },
      "outputs": [],
      "source": [
        "from google.auth.transport.requests import Request\n",
        "from google.oauth2.service_account import Credentials\n",
        "\n",
        "def get_credentials() -> Credentials:\n",
        "    credentials = Credentials.from_service_account_file('path/to/your/service-account.json', scopes=['openid'])\n",
        "    request = Request()\n",
        "    credentials.refresh(request)\n",
        "    return credentials"
      ]
    },
    {
      "cell_type": "markdown",
      "metadata": {
        "id": "edRTdzuNYjZK"
      },
      "source": [
        "Then run the below periodically:"
      ]
    },
    {
      "cell_type": "code",
      "execution_count": null,
      "metadata": {
        "id": "sAQMCZJJYp--"
      },
      "outputs": [],
      "source": [
        "# Run every 60 minutes\n",
        "credentials = get_credentials()\n",
        "client = connect_to_weaviate(credentials.token)"
      ]
    },
    {
      "cell_type": "markdown",
      "metadata": {
        "id": "Ze5J8E4MWC8g"
      },
      "source": [
        "## Create a collection\n",
        "> Collection stores your data and vector embeddings."
      ]
    },
    {
      "cell_type": "code",
      "execution_count": null,
      "metadata": {
        "id": "J32wdDCMWCgS"
      },
      "outputs": [],
      "source": [
        "# Note: in practice, you shouldn't rerun this cell, as it deletes your data\n",
        "# in \"JeopardyQuestion\", and then you need to re-import it again.\n",
        "import weaviate.classe.config as wc\n",
        "\n",
        "# Delete the collection if it already exists\n",
        "if (client.collections.exists(\"JeopardyQuestion\")):\n",
        "    client.collections.delete(\"JeopardyQuestion\")\n",
        "\n",
        "client.collections.create(\n",
        "    name=\"JeopardyQuestion\",\n",
        "\n",
        "    vectorizer_config=wc.Configure.Vectorizer.text2vec_palm( # specify the vectorizer and model type you're using\n",
        "        project_id=\"YOUR-GOOGLE-CLOUD-PROJECT-ID\", # required. replace with your value: (e.g. \"cloud-large-language-models\")\n",
        "        api_endpoint=\"YOUR-GOOGLE-CLOUD-PROJECT-ID\", # required. replace with your value: (e.g. \"cloud-large-language-models\")\n",
        "        # api_endpoint=\"generativelanguage.googleapis.com\", # This is the endpoint for Google MakerSuite\n",
        "        model_id=\"YOUR-GOOGLE-CLOUD-MODEL-ID\" # optional. defaults to \"textembedding-gecko\".\n",
        "    ),\n",
        "\n",
        "    properties=[ # defining properties (data schema) is optional\n",
        "        wc.Property(name=\"Question\", data_type=wc.DataType.TEXT), \n",
        "        wc.Property(name=\"Answer\", data_type=wc.DataType.TEXT),\n",
        "        wc.Property(name=\"Category\", data_type=wc.DataType.TEXT, skip_vectorization=True), \n",
        "    ]\n",
        ")\n",
        "\n",
        "print(\"Successfully created collection: JeopardyQuestion.\")"
      ]
    },
    {
      "cell_type": "markdown",
      "metadata": {
        "id": "bjcuCEcCXlRK"
      },
      "source": [
        "## Import the Data"
      ]
    },
    {
      "cell_type": "code",
      "execution_count": null,
      "metadata": {
        "id": "paWgPOGsa_NV"
      },
      "outputs": [],
      "source": [
        "import requests, json\n",
        "url = 'https://raw.githubusercontent.com/weaviate/weaviate-examples/main/jeopardy_small_dataset/jeopardy_tiny.json'\n",
        "resp = requests.get(url)\n",
        "data = json.loads(resp.text)\n",
        "\n",
        "# Get a collection object for \"JeopardyQuestion\"\n",
        "jeopardy = client.collections.get(\"JeopardyQuestion\")\n",
        "\n",
        "# Insert data objects\n",
        "response = jeopardy.data.insert_many(data)\n",
        "\n",
        "# Note, the `data` array contains 10 objects, which is great to call insert_many with.\n",
        "# However, if you have a milion objects to insert, then you should spit them into smaller batches (i.e. 100-1000 per insert)\n",
        "\n",
        "if (response.has_errors):\n",
        "    print(response.errors)\n",
        "else:\n",
        "    print(\"Insert complete.\")"
      ]
    },
    {
      "cell_type": "markdown",
      "metadata": {
        "id": "NISdgAYebLyX"
      },
      "source": [
        "## Hybrid Search"
      ]
    },
    {
      "cell_type": "markdown",
      "metadata": {
        "id": "svmbj8JC1y0g"
      },
      "source": [
        "The `alpha` parameter determines the weight given to the sparse and dense search methods. `alpha = 0` is pure sparse (bm25) search, whereas `alpha = 1` is pure dense (vector) search. \n",
        "\n",
        "Alpha is an optional parameter. The default is set to `0.75`."
      ]
    },
    {
      "cell_type": "markdown",
      "metadata": {
        "id": "_wsYL2vD5G_9"
      },
      "source": [
        "### Hybrid Search only\n",
        "\n",
        "The below query is finding Jeopardy questions about animals and is limiting the output to only two results. Notice `alpha` is set to `0.80`, which means it is weighing the vector search results more than bm25. If you were to set `alpha = 0.25`, you would get different results. "
      ]
    },
    {
      "cell_type": "code",
      "execution_count": null,
      "metadata": {
        "id": "QI5P082I1yA-"
      },
      "outputs": [],
      "source": [
        "# note, you can reuse the collection object from the previous cell.\n",
        "# Get a collection object for \"JeopardyQuestion\"\n",
        "jeopardy = client.collections.get(\"JeopardyQuestion\")\n",
        "\n",
        "response = jeopardy.query.hybrid(\n",
        "    query=\"northern beast\",\n",
        "    alpha=0.8,\n",
        "    limit=3\n",
        ")\n",
        "\n",
        "for item in response.objects:\n",
        "    print(\"ID:\", item.uuid)\n",
        "    print(\"Data:\", json.dumps(item.properties, indent=2), \"\\n\")"
      ]
    },
    {
      "cell_type": "markdown",
      "metadata": {
        "id": "JcmaLcry7De_"
      },
      "source": [
        "### Hybrid Search on a specific property\n",
        "\n",
        "The `properties` parameter allows you to list the properties that you want bm25 to search on."
      ]
    },
    {
      "cell_type": "code",
      "execution_count": null,
      "metadata": {
        "id": "Cp3hhbNu6Lsv"
      },
      "outputs": [],
      "source": [
        "response = jeopardy.query.hybrid(\n",
        "    query=\"northern beast\",\n",
        "    query_properties=[\"question\"],\n",
        "    alpha=0.8,\n",
        "    limit=3\n",
        ")\n",
        "\n",
        "for item in response.objects:\n",
        "    print(\"ID:\", item.uuid)\n",
        "    print(\"Data:\", json.dumps(item.properties, indent=2), \"\\n\")"
      ]
    },
    {
      "cell_type": "markdown",
      "metadata": {
        "id": "kkX9rn-25rHC"
      },
      "source": [
        "### Hybrid Search with a `where` filter\n",
        "\n",
        "Find Jeopardy questions about elephants, where the category is set to Animals."
      ]
    },
    {
      "cell_type": "code",
      "execution_count": null,
      "metadata": {
        "id": "76CgsOd451PB"
      },
      "outputs": [],
      "source": [
        "import weaviate.classes.query as wq # wq is an alias to save us from typing weaviate.classes everywhere ;)\n",
        "\n",
        "response = jeopardy.query.hybrid(\n",
        "    query=\"northern beast\",\n",
        "    alpha=0.8,\n",
        "    filters=wq.Filter(\"category\").equal(\"Animals\"),\n",
        "    limit=3\n",
        ")\n",
        "\n",
        "for item in response.objects:\n",
        "    print(\"ID:\", item.uuid)\n",
        "    print(\"Data:\", json.dumps(item.properties, indent=2), \"\\n\")"
      ]
    },
    {
      "cell_type": "markdown",
      "metadata": {
        "id": "MZeyVS6V73Rl"
      },
      "source": [
        "### Hybrid Search with a custom vector\n",
        "\n",
        "You can pass in your own vector as input into the hybrid query, by using the `vector` parameter. "
      ]
    },
    {
      "cell_type": "code",
      "execution_count": null,
      "metadata": {
        "id": "-_BPO75F76wa"
      },
      "outputs": [],
      "source": [
        "vector = [-0.0125526935, -0.021168863, ...]\n",
        "\n",
        "response = jeopardy.query.hybrid(\n",
        "    query=\"animal\",\n",
        "    vector=vector,\n",
        "    limit=2\n",
        ")\n",
        "\n",
        "for item in response.objects:\n",
        "    print(\"ID:\", item.uuid)\n",
        "    print(\"Data:\", json.dumps(item.properties, indent=2), \"\\n\")"
      ]
    }
  ],
  "metadata": {
    "colab": {
      "collapsed_sections": [
        "rJD9aP9eVcsT",
        "rgL-mnMqVf0B",
        "CfL6wp85WzuT",
        "9wtTMIAsXbl-",
        "YG97B310X5Q5",
        "Ze5J8E4MWC8g",
        "bjcuCEcCXlRK",
        "NISdgAYebLyX",
        "_wsYL2vD5G_9",
        "JcmaLcry7De_",
        "kkX9rn-25rHC",
        "MZeyVS6V73Rl"
      ],
      "provenance": []
    },
    "kernelspec": {
      "display_name": "Python 3",
      "name": "python3"
    },
    "language_info": {
      "name": "python"
    }
  },
  "nbformat": 4,
  "nbformat_minor": 0
}
